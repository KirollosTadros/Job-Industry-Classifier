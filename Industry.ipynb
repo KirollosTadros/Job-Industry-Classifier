{
 "cells": [
  {
   "cell_type": "code",
   "execution_count": 2,
   "metadata": {},
   "outputs": [
    {
     "name": "stderr",
     "output_type": "stream",
     "text": [
      "F:\\4th Year CSE\\Machine Learning\\Titles\\venv\\lib\\site-packages\\sklearn\\externals\\six.py:31: DeprecationWarning: The module is deprecated in version 0.21 and will be removed in version 0.23 since we've dropped support for Python 2.7. Please rely on the official version of six (https://pypi.org/project/six/).\n",
      "  \"(https://pypi.org/project/six/).\", DeprecationWarning)\n"
     ]
    }
   ],
   "source": [
    "from imblearn.over_sampling import SMOTE\n",
    "from sklearn.naive_bayes import MultinomialNB\n",
    "import pandas as pd\n",
    "import numpy as np\n",
    "from sklearn.preprocessing import LabelEncoder\n",
    "from sklearn.feature_extraction.text import TfidfVectorizer\n",
    "from sklearn import model_selection, svm\n",
    "from sklearn.metrics import accuracy_score, f1_score\n",
    "from sklearn.utils import class_weight"
   ]
  },
  {
   "cell_type": "markdown",
   "metadata": {},
   "source": [
    "### 1.0 Loading our dataset"
   ]
  },
  {
   "cell_type": "code",
   "execution_count": 3,
   "metadata": {},
   "outputs": [],
   "source": [
    "jobs_data = pd.read_csv (r\"Jobtitles.csv\",encoding='latin-1')\n",
    "class_0_count, class_1_count, class_2_count, class_3_count = jobs_data.industry.value_counts()"
   ]
  },
  {
   "cell_type": "code",
   "execution_count": 4,
   "metadata": {},
   "outputs": [],
   "source": [
    "#feature to be used\n",
    "X=jobs_data['job title']\n",
    "\n",
    "#Classes\n",
    "y= jobs_data['industry']"
   ]
  },
  {
   "cell_type": "markdown",
   "metadata": {},
   "source": [
    "## 1.1 Encoding the Classes\n",
    "Encdoing classes to convert classes into numerical values"
   ]
  },
  {
   "cell_type": "code",
   "execution_count": 5,
   "metadata": {},
   "outputs": [],
   "source": [
    "#Enocding into numeric value\n",
    "Encoder = LabelEncoder()\n",
    "y = Encoder.fit_transform(y)"
   ]
  },
  {
   "cell_type": "markdown",
   "metadata": {},
   "source": [
    "## 1.2 Split Data\n",
    "Split Data into train and test set"
   ]
  },
  {
   "cell_type": "code",
   "execution_count": 6,
   "metadata": {},
   "outputs": [],
   "source": [
    "Train_X, Test_X, Train_Y, Test_Y = model_selection.train_test_split(X,y)"
   ]
  },
  {
   "cell_type": "markdown",
   "metadata": {},
   "source": [
    "## 1.3 Data Vectorization"
   ]
  },
  {
   "cell_type": "code",
   "execution_count": 7,
   "metadata": {},
   "outputs": [],
   "source": [
    "#converting data to numeric feature vector\n",
    "Tfidf_vect = TfidfVectorizer(max_features=5000)\n",
    "Tfidf_vect.fit(X)\n",
    "Train_X_Tfidf = Tfidf_vect.transform(Train_X)\n",
    "Test_X_Tfidf = Tfidf_vect.transform(Test_X)"
   ]
  },
  {
   "cell_type": "markdown",
   "metadata": {},
   "source": [
    "### 2.0 classifiers\n",
    "In this part we are going to try different classifiers to decide which one is the best\n"
   ]
  },
  {
   "cell_type": "markdown",
   "metadata": {},
   "source": [
    "## 2.1 Multinomial Naive Bayes\n",
    "We will start with Multinomial Naive Bayes"
   ]
  },
  {
   "cell_type": "code",
   "execution_count": 8,
   "metadata": {},
   "outputs": [],
   "source": [
    "NB = MultinomialNB()\n",
    "NB.fit(Train_X_Tfidf,Train_Y)\n",
    "predictions_NB = NB.predict(Test_X_Tfidf)"
   ]
  },
  {
   "cell_type": "markdown",
   "metadata": {},
   "source": [
    "### 2.1.1 Crosstab"
   ]
  },
  {
   "cell_type": "markdown",
   "metadata": {},
   "source": [
    "We will use Crosstab to see how our predication is close to the correct one"
   ]
  },
  {
   "cell_type": "code",
   "execution_count": 9,
   "metadata": {},
   "outputs": [
    {
     "name": "stdout",
     "output_type": "stream",
     "text": [
      "Predicated   0    1     2    3   All\n",
      "Actual                              \n",
      "0           56    3    37   13   109\n",
      "1            3  307    25   21   356\n",
      "2            0    0  1146   28  1174\n",
      "3            0    3    58  447   508\n",
      "All         59  313  1266  509  2147\n"
     ]
    }
   ],
   "source": [
    "print(\n",
    "pd.crosstab(\n",
    "    pd.Series(Test_Y, name='Actual'),\n",
    "    pd.Series(predictions_NB, name='Predicated'),\n",
    "    margins=True\n",
    "))"
   ]
  },
  {
   "cell_type": "markdown",
   "metadata": {},
   "source": [
    "### 2.1.2 F1 Score\n",
    "We will use F1 Score to know how close we are to the correct classification "
   ]
  },
  {
   "cell_type": "code",
   "execution_count": 10,
   "metadata": {},
   "outputs": [
    {
     "name": "stdout",
     "output_type": "stream",
     "text": [
      "F1 Score: 0.91\n"
     ]
    }
   ],
   "source": [
    "print(\"F1 Score: {0:.2f}\".format(f1_score(Test_Y, predictions_NB, average='weighted')))"
   ]
  },
  {
   "cell_type": "markdown",
   "metadata": {},
   "source": [
    "## 2.2 SVM Classifier\n",
    "Now we will try SVM Classifier"
   ]
  },
  {
   "cell_type": "code",
   "execution_count": 11,
   "metadata": {},
   "outputs": [],
   "source": [
    "SVM = svm.SVC(C=1.0, kernel='linear', degree=3, gamma='auto')\n",
    "SVM.fit(Train_X_Tfidf,Train_Y)\n",
    "predictions_SVM = SVM.predict(Test_X_Tfidf)"
   ]
  },
  {
   "cell_type": "markdown",
   "metadata": {},
   "source": [
    "### 2.2.1 SVM Crosstab"
   ]
  },
  {
   "cell_type": "code",
   "execution_count": 12,
   "metadata": {},
   "outputs": [
    {
     "name": "stdout",
     "output_type": "stream",
     "text": [
      "Predicated   0    1     2    3   All\n",
      "Actual                              \n",
      "0           94    0    13    2   109\n",
      "1            3  318    14   21   356\n",
      "2            0    2  1148   24  1174\n",
      "3            2    4    46  456   508\n",
      "All         99  324  1221  503  2147\n"
     ]
    }
   ],
   "source": [
    "print(\n",
    "pd.crosstab(\n",
    "    pd.Series(Test_Y, name='Actual'),\n",
    "    pd.Series(predictions_SVM, name='Predicated'),\n",
    "    margins=True\n",
    "))"
   ]
  },
  {
   "cell_type": "markdown",
   "metadata": {},
   "source": [
    "### 2.2.2 SVM F1 Score"
   ]
  },
  {
   "cell_type": "code",
   "execution_count": 30,
   "metadata": {},
   "outputs": [
    {
     "name": "stdout",
     "output_type": "stream",
     "text": [
      "F1 Score: 0.9391\n"
     ]
    }
   ],
   "source": [
    "print(\"F1 Score: {0:.4f}\".format(f1_score(Test_Y, predictions_SVM, average='weighted')))"
   ]
  },
  {
   "cell_type": "markdown",
   "metadata": {},
   "source": [
    "# 3.0 Balancing data\n",
    "Now we will deal with imbalanced data to improve accuarcy "
   ]
  },
  {
   "cell_type": "markdown",
   "metadata": {},
   "source": [
    "## 3.1 Class Weight\n",
    "We will use class Weight to give more weight to the low frequency classes"
   ]
  },
  {
   "cell_type": "code",
   "execution_count": 59,
   "metadata": {},
   "outputs": [],
   "source": [
    "class_weights = {0: 4,\n",
    "                 1: 3,\n",
    "                 2: .8,\n",
    "                 3: 1.25}"
   ]
  },
  {
   "cell_type": "markdown",
   "metadata": {},
   "source": [
    "## 3.2 SVM Classifier with weighted Classes"
   ]
  },
  {
   "cell_type": "code",
   "execution_count": 60,
   "metadata": {},
   "outputs": [],
   "source": [
    "SVM = svm.SVC(C=1.0, kernel='linear', degree=3, gamma='auto', class_weight = class_weights)\n",
    "SVM.fit(Train_X_Tfidf,Train_Y)\n",
    "predictions_SVM = SVM.predict(Test_X_Tfidf)"
   ]
  },
  {
   "cell_type": "markdown",
   "metadata": {},
   "source": [
    "## 3.3 Crosstab\n",
    "Crosstab of the new SVM classifier"
   ]
  },
  {
   "cell_type": "code",
   "execution_count": 61,
   "metadata": {},
   "outputs": [
    {
     "name": "stdout",
     "output_type": "stream",
     "text": [
      "Predicated    0    1     2    3   All\n",
      "Actual                               \n",
      "0            99    3     6    1   109\n",
      "1             5  327     8   16   356\n",
      "2             2    8  1141   23  1174\n",
      "3             3   16    33  456   508\n",
      "All         109  354  1188  496  2147\n"
     ]
    }
   ],
   "source": [
    "print(\n",
    "pd.crosstab(\n",
    "    pd.Series(Test_Y, name='Actual'),\n",
    "    pd.Series(predictions_SVM, name='Predicated'),\n",
    "    margins=True\n",
    "))\n"
   ]
  },
  {
   "cell_type": "code",
   "execution_count": 62,
   "metadata": {},
   "outputs": [
    {
     "name": "stdout",
     "output_type": "stream",
     "text": [
      "F1 Score: 0.9421\n"
     ]
    }
   ],
   "source": [
    "print(\"F1 Score: {0:.4f}\".format(f1_score(Test_Y, predictions_SVM, average='weighted')))"
   ]
  }
 ],
 "metadata": {
  "kernelspec": {
   "display_name": "Python 3",
   "language": "python",
   "name": "python3"
  },
  "language_info": {
   "codemirror_mode": {
    "name": "ipython",
    "version": 3
   },
   "file_extension": ".py",
   "mimetype": "text/x-python",
   "name": "python",
   "nbconvert_exporter": "python",
   "pygments_lexer": "ipython3",
   "version": "3.7.2"
  }
 },
 "nbformat": 4,
 "nbformat_minor": 1
}
